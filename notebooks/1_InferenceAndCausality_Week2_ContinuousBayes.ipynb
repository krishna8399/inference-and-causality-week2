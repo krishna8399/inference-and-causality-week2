{
 "cells": [
  {
   "cell_type": "markdown",
   "metadata": {},
   "source": [
    "## Guess the Coin"
   ]
  },
  {
   "cell_type": "code",
   "execution_count": 1,
   "metadata": {},
   "outputs": [
    {
     "data": {
      "application/vnd.jupyter.widget-view+json": {
       "model_id": "151ca6e084f3413b8727a7a2f257f08b",
       "version_major": 2,
       "version_minor": 0
      },
      "text/plain": [
       "interactive(children=(IntSlider(value=4, description='Heads', max=10), IntSlider(value=5, description='Tosses'…"
      ]
     },
     "metadata": {},
     "output_type": "display_data"
    }
   ],
   "source": [
    "# Week 2 — From Discrete to Continuous Bayes\n",
    "\n",
    "import numpy as np\n",
    "import matplotlib.pyplot as plt\n",
    "from scipy.stats import beta\n",
    "from ipywidgets import interact, IntSlider\n",
    "%matplotlib inline\n",
    "\n",
    "\n",
    "plt.style.use(\"seaborn-v0_8\")\n",
    "\n",
    "# --- Parameters ---\n",
    "# prior parameters (Beta distribution)\n",
    "a_prior, b_prior = 2, 2   # \"probably fair\" — centered around 0.5\n",
    "\n",
    "# --- Helper function ---\n",
    "def plot_posterior(heads=0, tosses=0):\n",
    "    \"\"\"\n",
    "    Plot prior, likelihood (up to scale), and posterior for given data.\n",
    "    heads: number of observed heads\n",
    "    tosses: total number of coin tosses\n",
    "    \"\"\"\n",
    "    x = np.linspace(0, 1, 400)\n",
    "    \n",
    "    # prior Beta(a,b)\n",
    "    prior = beta.pdf(x, a_prior, b_prior)\n",
    "    \n",
    "    # posterior Beta(a+a_prior, b+b_prior)\n",
    "    a_post = a_prior + heads\n",
    "    b_post = b_prior + tosses - heads\n",
    "    posterior = beta.pdf(x, a_post, b_post)\n",
    "    \n",
    "    plt.figure(figsize=(7,4))\n",
    "    plt.plot(x, prior, \"--\", label=f\"Prior Beta({a_prior},{b_prior})\")\n",
    "    plt.plot(x, posterior, label=f\"Posterior Beta({a_post},{b_post})\")\n",
    "    plt.fill_between(x, posterior, alpha=0.2)\n",
    "    plt.xlabel(\"Coin bias θ (probability of heads)\")\n",
    "    plt.ylabel(\"Density\")\n",
    "    plt.title(f\"{heads} heads out of {tosses} tosses\")\n",
    "    plt.legend()\n",
    "    plt.show()\n",
    "\n",
    "# --- Interactive widget ---\n",
    "interact(plot_posterior,\n",
    "         heads=IntSlider(min=0, max=10, step=1, value=4, description=\"Heads\"),\n",
    "         tosses=IntSlider(min=1, max=10, step=1, value=5, description=\"Tosses\"));\n",
    "\n"
   ]
  },
  {
   "cell_type": "markdown",
   "metadata": {},
   "source": [
    "### Mini Exercise\n",
    "Play with the sliders until you find a situation where your prior and data disagree.\n",
    "- Describe what happens to the posterior.\n",
    "- Why doesn’t it completely ignore your prior after only a few tosses?\n"
   ]
  },
  {
   "cell_type": "code",
   "execution_count": 3,
   "metadata": {},
   "outputs": [
    {
     "data": {
      "application/vnd.jupyter.widget-view+json": {
       "model_id": "6f67dd1dff014344996d04333cd34239",
       "version_major": 2,
       "version_minor": 0
      },
      "text/plain": [
       "interactive(children=(IntSlider(value=0, description='Heads', max=20), IntSlider(value=5, description='Tosses'…"
      ]
     },
     "metadata": {},
     "output_type": "display_data"
    }
   ],
   "source": [
    "# Enter your answers here. (you can use a markedown cell if you prefer)\n",
    "\n",
    "# Prior: \"probably fair\"\n",
    "\n",
    "import numpy as np\n",
    "import matplotlib.pyplot as plt\n",
    "from scipy.stats import beta\n",
    "from ipywidgets import interact, IntSlider\n",
    "\n",
    "plt.style.use(\"seaborn-v0_8\")\n",
    "\n",
    "# --- Prior setup ---\n",
    "a_prior, b_prior = 2, 2   # \"probably fair\" prior centered at 0.5\n",
    "\n",
    "def plot_disagreement(heads=0, tosses=5):\n",
    "    \"\"\"\n",
    "    Plot prior and posterior to visualize what happens when prior and data disagree.\n",
    "    \"\"\"\n",
    "    x = np.linspace(0, 1, 400)\n",
    "    \n",
    "    # Prior distribution\n",
    "    prior = beta.pdf(x, a_prior, b_prior)\n",
    "    \n",
    "    # Posterior distribution\n",
    "    a_post = a_prior + heads\n",
    "    b_post = b_prior + tosses - heads\n",
    "    posterior = beta.pdf(x, a_post, b_post)\n",
    "    \n",
    "    # --- Plot ---\n",
    "    plt.figure(figsize=(8,5))\n",
    "    plt.plot(x, prior, '--', label=f\"Prior Beta({a_prior},{b_prior})\", linewidth=2)\n",
    "    plt.plot(x, posterior, label=f\"Posterior Beta({a_post},{b_post})\", linewidth=2)\n",
    "    plt.fill_between(x, posterior, alpha=0.3)\n",
    "    plt.xlabel(\"Coin bias θ (probability of heads)\")\n",
    "    plt.ylabel(\"Density\")\n",
    "    plt.title(f\"{heads} heads out of {tosses} tosses — Prior vs Data Disagreement\")\n",
    "    plt.legend()\n",
    "    plt.show()\n",
    "    \n",
    "    # --- Posterior mean and explanation ---\n",
    "    posterior_mean = a_post / (a_post + b_post)\n",
    "    print(f\"Posterior mean = {posterior_mean:.3f}\\n\")\n",
    "    print(\"Explanation:\")\n",
    "    print(\"• The dashed curve is your prior belief — 'probably fair' (centered at 0.5).\")\n",
    "    print(f\"• The solid curve shows the updated belief after seeing {heads} heads in {tosses} tosses.\")\n",
    "    print(\"• When data disagree with the prior (e.g., all heads or all tails), \"\n",
    "          \"the posterior moves toward the data but not all the way.\")\n",
    "    print(\"• The prior acts as 'memory' or pseudo-counts — here it adds 2 pseudo-heads and 2 pseudo-tails.\")\n",
    "    print(\"• As you increase tosses, the data dominate and the prior influence fades.\")\n",
    "\n",
    "# --- Interactive widget ---\n",
    "interact(plot_disagreement,\n",
    "         heads=IntSlider(min=0, max=20, step=1, value=0, description=\"Heads\"),\n",
    "         tosses=IntSlider(min=1, max=20, step=1, value=5, description=\"Tosses\"));"
   ]
  },
  {
   "cell_type": "code",
   "execution_count": null,
   "metadata": {},
   "outputs": [],
   "source": []
  }
 ],
 "metadata": {
  "kernelspec": {
   "display_name": "Python 3 (ipykernel)",
   "language": "python",
   "name": "python3"
  },
  "language_info": {
   "codemirror_mode": {
    "name": "ipython",
    "version": 3
   },
   "file_extension": ".py",
   "mimetype": "text/x-python",
   "name": "python",
   "nbconvert_exporter": "python",
   "pygments_lexer": "ipython3",
   "version": "3.13.5"
  }
 },
 "nbformat": 4,
 "nbformat_minor": 4
}
